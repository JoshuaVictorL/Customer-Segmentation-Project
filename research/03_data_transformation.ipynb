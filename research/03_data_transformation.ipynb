{
 "cells": [
  {
   "cell_type": "code",
   "execution_count": 1,
   "metadata": {},
   "outputs": [],
   "source": [
    "import os"
   ]
  },
  {
   "cell_type": "code",
   "execution_count": 2,
   "metadata": {},
   "outputs": [
    {
     "data": {
      "text/plain": [
       "'/home/joshua/Customer-Segmentation-Project/research'"
      ]
     },
     "execution_count": 2,
     "metadata": {},
     "output_type": "execute_result"
    }
   ],
   "source": [
    "%pwd"
   ]
  },
  {
   "cell_type": "code",
   "execution_count": 3,
   "metadata": {},
   "outputs": [],
   "source": [
    "os.chdir(\"../\")"
   ]
  },
  {
   "cell_type": "code",
   "execution_count": 4,
   "metadata": {},
   "outputs": [
    {
     "data": {
      "text/plain": [
       "'/home/joshua/Customer-Segmentation-Project'"
      ]
     },
     "execution_count": 4,
     "metadata": {},
     "output_type": "execute_result"
    }
   ],
   "source": [
    "%pwd"
   ]
  },
  {
   "cell_type": "code",
   "execution_count": 5,
   "metadata": {},
   "outputs": [],
   "source": [
    "from dataclasses import dataclass\n",
    "from pathlib import Path\n",
    "\n",
    "\n",
    "@dataclass(frozen=True)\n",
    "class DataTransformationConfig:\n",
    "    root_dir: Path\n",
    "    data_path: Path"
   ]
  },
  {
   "cell_type": "code",
   "execution_count": 6,
   "metadata": {},
   "outputs": [],
   "source": [
    "from customer_segmentation.constants import *\n",
    "from customer_segmentation.utils.common import read_yaml, create_directories"
   ]
  },
  {
   "cell_type": "code",
   "execution_count": 7,
   "metadata": {},
   "outputs": [],
   "source": [
    "class ConfigurationManager:\n",
    "    def __init__(\n",
    "        self,\n",
    "        config_filepath = CONFIG_FILE_PATH,\n",
    "        params_filepath = PARAMS_FILE_PATH,\n",
    "        schema_filepath = SCHEMA_FILE_PATH):\n",
    "\n",
    "        self.config = read_yaml(config_filepath)\n",
    "        self.params = read_yaml(params_filepath)\n",
    "        self.schema = read_yaml(schema_filepath)\n",
    "\n",
    "        create_directories([self.config.artifacts_root])\n",
    "\n",
    "\n",
    "    \n",
    "    def get_data_transformation_config(self) -> DataTransformationConfig:\n",
    "        config = self.config.data_transformation\n",
    "\n",
    "        create_directories([config.root_dir])\n",
    "\n",
    "        data_transformation_config = DataTransformationConfig(\n",
    "            root_dir=config.root_dir,\n",
    "            data_path=config.data_path,\n",
    "        )\n",
    "\n",
    "        return data_transformation_config"
   ]
  },
  {
   "cell_type": "code",
   "execution_count": 10,
   "metadata": {},
   "outputs": [],
   "source": [
    "import pandas as pd\n",
    "from sklearn.preprocessing import StandardScaler\n",
    "\n",
    "class DataTransformation:\n",
    "    def __init__(self, config: DataTransformationConfig):\n",
    "        self.config = config\n",
    "\n",
    "    def load_data(self):\n",
    "        \"\"\"Load data from the provided CSV path.\"\"\"\n",
    "        self.df = pd.read_csv(self.config.data_path)\n",
    "\n",
    "    def aggregate_purchase_behavior(self):\n",
    "        \"\"\"Aggregate purchase behavior per user.\"\"\"\n",
    "        self.df_cluster = self.df.groupby('User_ID').agg(\n",
    "            total_spent=('Purchase', 'sum'),\n",
    "            avg_spent=('Purchase', 'mean'),\n",
    "            spending_variability=('Purchase', 'std')\n",
    "        ).reset_index()\n",
    "\n",
    "    def merge_demographic_data(self):\n",
    "        \"\"\"Merge user demographic data.\"\"\"\n",
    "        df_demographics = self.df[['User_ID', 'Age', 'Occupation', 'City_Category', \n",
    "                                   'Stay_In_Current_City_Years', 'Marital_Status']].drop_duplicates('User_ID')\n",
    "        self.df_cluster = self.df_cluster.merge(df_demographics, on='User_ID', how='left')\n",
    "\n",
    "    def encode_categorical_variables(self):\n",
    "        \"\"\"Map and encode categorical variables.\"\"\"\n",
    "        age_mapping = {'0-17': 0, '18-25': 1, '26-35': 2, '36-45': 3, '46-50': 4, '51-55': 5, '55+': 6}\n",
    "        stay_mapping = {'0': 0, '1': 1, '2': 2, '3': 3, '4+': 4}\n",
    "\n",
    "        self.df_cluster['Age'] = self.df_cluster['Age'].map(age_mapping)\n",
    "        self.df_cluster['Stay_In_Current_City_Years'] = self.df_cluster['Stay_In_Current_City_Years'].map(stay_mapping)\n",
    "\n",
    "        # One-hot encode City_Category\n",
    "        self.df_cluster = pd.get_dummies(self.df_cluster, columns=['City_Category'], prefix='City')\n",
    "\n",
    "    def process_occupation_data(self):\n",
    "        \"\"\"Normalize occupation frequency and process occupation column.\"\"\"\n",
    "        occupation_counts = self.df_cluster['Occupation'].value_counts(normalize=True)\n",
    "        self.df_cluster['Occupation_Freq'] = self.df_cluster['Occupation'].map(occupation_counts)\n",
    "        self.df_cluster.drop(columns=['Occupation'], inplace=True)\n",
    "\n",
    "    def product_purchase_behavior(self):\n",
    "        \"\"\"Analyze product purchase patterns.\"\"\"\n",
    "        df_product = self.df.groupby('User_ID').agg(\n",
    "            top_category=('Product_Category', lambda x: x.value_counts().idxmax()),  # Most purchased category\n",
    "            unique_categories=('Product_Category', 'nunique')  # Number of unique categories purchased\n",
    "        ).reset_index()\n",
    "\n",
    "        # Merge product behavior data into the main DataFrame\n",
    "        self.df_cluster = pd.merge(self.df_cluster, df_product, on='User_ID', how='left')\n",
    "\n",
    "        # Group rare categories into 'Other'\n",
    "        rare_categories = self.df_cluster['top_category'].value_counts()[self.df_cluster['top_category'].value_counts() < 1000].index\n",
    "        self.df_cluster['top_category'] = self.df_cluster['top_category'].apply(lambda x: 'Other' if x in rare_categories else x)\n",
    "\n",
    "        # One-hot encode 'top_category'\n",
    "        self.df_cluster = pd.get_dummies(self.df_cluster, columns=['top_category'], prefix='Category')\n",
    "\n",
    "    def scale_features(self):\n",
    "        \"\"\"Scale numeric features using StandardScaler.\"\"\"\n",
    "        # Exclude 'User_ID' from scaling\n",
    "        features_to_scale = self.df_cluster.drop(['User_ID'], axis=1)\n",
    "\n",
    "        # Initialize the scaler\n",
    "        scaler = StandardScaler()\n",
    "\n",
    "        # Apply scaling\n",
    "        scaled_features = scaler.fit_transform(features_to_scale)\n",
    "\n",
    "        # Convert back to DataFrame\n",
    "        self.df_cluster_scaled = pd.DataFrame(scaled_features, columns=features_to_scale.columns)\n",
    "        \n",
    "        # Add back 'User_ID'\n",
    "        self.df_cluster_scaled['User_ID'] = self.df_cluster['User_ID'].values\n",
    "\n",
    "    def save_transformed_data(self):\n",
    "        \"\"\"Save the transformed and scaled dataset to the specified directory.\"\"\"\n",
    "        transformed_path = f\"{self.config.root_dir}/transformed_scaled_data.csv\"\n",
    "        self.df_cluster_scaled.to_csv(transformed_path, index=False)\n",
    "\n",
    "    def run_transformation(self):\n",
    "        \"\"\"Run all transformation steps in order.\"\"\"\n",
    "        self.load_data()\n",
    "        self.aggregate_purchase_behavior()\n",
    "        self.merge_demographic_data()\n",
    "        self.encode_categorical_variables()\n",
    "        self.process_occupation_data()\n",
    "        self.product_purchase_behavior()\n",
    "        self.scale_features()\n",
    "        self.save_transformed_data()"
   ]
  },
  {
   "cell_type": "code",
   "execution_count": 11,
   "metadata": {},
   "outputs": [
    {
     "name": "stdout",
     "output_type": "stream",
     "text": [
      "[2025-02-22 19:44:12,109: INFO: common: yaml file: config/config.yaml loaded successfully]\n",
      "[2025-02-22 19:44:12,113: INFO: common: yaml file: params.yaml loaded successfully]\n",
      "[2025-02-22 19:44:12,120: INFO: common: yaml file: schema.yaml loaded successfully]\n",
      "[2025-02-22 19:44:12,123: INFO: common: created directory at: artifacts]\n"
     ]
    },
    {
     "name": "stdout",
     "output_type": "stream",
     "text": [
      "[2025-02-22 19:44:12,125: INFO: common: created directory at: artifacts/data_transformation]\n"
     ]
    }
   ],
   "source": [
    "try:\n",
    "    config = ConfigurationManager()\n",
    "    data_transformation_config = config.get_data_transformation_config()\n",
    "    data_transformation = DataTransformation(config=data_transformation_config)\n",
    "    data_transformation.run_transformation()\n",
    "except Exception as e:\n",
    "    raise e"
   ]
  }
 ],
 "metadata": {
  "kernelspec": {
   "display_name": "ml",
   "language": "python",
   "name": "python3"
  },
  "language_info": {
   "codemirror_mode": {
    "name": "ipython",
    "version": 3
   },
   "file_extension": ".py",
   "mimetype": "text/x-python",
   "name": "python",
   "nbconvert_exporter": "python",
   "pygments_lexer": "ipython3",
   "version": "3.10.12"
  }
 },
 "nbformat": 4,
 "nbformat_minor": 2
}
