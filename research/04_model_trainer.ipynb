{
 "cells": [
  {
   "cell_type": "code",
   "execution_count": 1,
   "metadata": {},
   "outputs": [],
   "source": [
    "import os"
   ]
  },
  {
   "cell_type": "code",
   "execution_count": 2,
   "metadata": {},
   "outputs": [
    {
     "data": {
      "text/plain": [
       "'/home/joshua/Customer-Segmentation-Project/research'"
      ]
     },
     "execution_count": 2,
     "metadata": {},
     "output_type": "execute_result"
    }
   ],
   "source": [
    "%pwd"
   ]
  },
  {
   "cell_type": "code",
   "execution_count": 3,
   "metadata": {},
   "outputs": [],
   "source": [
    "os.chdir(\"../\")"
   ]
  },
  {
   "cell_type": "code",
   "execution_count": 4,
   "metadata": {},
   "outputs": [
    {
     "data": {
      "text/plain": [
       "'/home/joshua/Customer-Segmentation-Project'"
      ]
     },
     "execution_count": 4,
     "metadata": {},
     "output_type": "execute_result"
    }
   ],
   "source": [
    "%pwd"
   ]
  },
  {
   "cell_type": "code",
   "execution_count": 5,
   "metadata": {},
   "outputs": [],
   "source": [
    "from dataclasses import dataclass\n",
    "from pathlib import Path\n",
    "\n",
    "@dataclass(frozen=True)\n",
    "class ModelTrainerConfig:\n",
    "    root_dir: Path\n",
    "    transformed_data_path: Path\n",
    "    clustered_data_path: Path\n",
    "    model_save_path: Path\n",
    "    test_size: float\n",
    "    random_state: int\n",
    "    n_estimators: int\n",
    "    max_depth: int"
   ]
  },
  {
   "cell_type": "code",
   "execution_count": 6,
   "metadata": {},
   "outputs": [],
   "source": [
    "# configuration_manager.py\n",
    "from customer_segmentation.constants import *\n",
    "from customer_segmentation.utils.common import read_yaml, create_directories\n",
    "\n",
    "class ConfigurationManager:\n",
    "    def __init__(self, config_filepath=CONFIG_FILE_PATH, params_filepath=PARAMS_FILE_PATH):\n",
    "        self.config = read_yaml(config_filepath)\n",
    "        self.params = read_yaml(params_filepath)\n",
    "        create_directories([self.config.model_trainer.root_dir])\n",
    "\n",
    "    def get_model_trainer_config(self) -> ModelTrainerConfig:\n",
    "        config = self.config.model_trainer\n",
    "        params = self.params.model_trainer\n",
    "\n",
    "        return ModelTrainerConfig(\n",
    "            root_dir=config.root_dir,\n",
    "            transformed_data_path=config.transformed_data_path,\n",
    "            clustered_data_path=config.clustered_data_path,\n",
    "            model_save_path=config.model_save_path,\n",
    "            test_size=params.test_size,\n",
    "            random_state=params.random_state,\n",
    "            n_estimators=params.n_estimators,\n",
    "            max_depth=params.max_depth\n",
    "        )"
   ]
  },
  {
   "cell_type": "code",
   "execution_count": 7,
   "metadata": {},
   "outputs": [],
   "source": [
    "import pandas as pd\n",
    "from sklearn.cluster import KMeans\n",
    "from sklearn.ensemble import RandomForestClassifier\n",
    "from sklearn.model_selection import train_test_split\n",
    "from sklearn.metrics import classification_report\n",
    "import joblib\n",
    "\n",
    "class ModelTrainer:\n",
    "    def __init__(self, config: ModelTrainerConfig):\n",
    "        self.config = config\n",
    "\n",
    "    def train(self):\n",
    "        # Load transformed data\n",
    "        data = pd.read_csv(self.config.transformed_data_path)\n",
    "\n",
    "        # KMeans Clustering\n",
    "        kmeans = KMeans(n_clusters=4, random_state=self.config.random_state, n_init=10)\n",
    "        data['Cluster'] = kmeans.fit_predict(data.drop('User_ID', axis=1))\n",
    "        data[['User_ID', 'Cluster']].to_csv(self.config.clustered_data_path, index=False)\n",
    "\n",
    "        # Prepare for Random Forest\n",
    "        X = data.drop(['User_ID', 'Cluster'], axis=1)\n",
    "        y = data['Cluster']\n",
    "        X_train, X_test, y_train, y_test = train_test_split(\n",
    "            X, y, test_size=self.config.test_size, random_state=self.config.random_state\n",
    "        )\n",
    "\n",
    "        rf = RandomForestClassifier(\n",
    "            n_estimators=self.config.n_estimators,\n",
    "            max_depth=self.config.max_depth,\n",
    "            random_state=self.config.random_state\n",
    "        )\n",
    "        rf.fit(X_train, y_train)\n",
    "        y_pred = rf.predict(X_test)\n",
    "        print(classification_report(y_test, y_pred))\n",
    "\n",
    "        # Save the trained model\n",
    "        joblib.dump(rf, self.config.model_save_path)"
   ]
  },
  {
   "cell_type": "code",
   "execution_count": 8,
   "metadata": {},
   "outputs": [
    {
     "name": "stdout",
     "output_type": "stream",
     "text": [
      "[2025-02-23 14:10:15,673: INFO: common: yaml file: config/config.yaml loaded successfully]\n",
      "[2025-02-23 14:10:15,680: INFO: common: yaml file: params.yaml loaded successfully]\n",
      "[2025-02-23 14:10:15,684: INFO: common: created directory at: artifacts/model_trainer]\n",
      "              precision    recall  f1-score   support\n",
      "\n",
      "           0       0.98      1.00      0.99       357\n",
      "           1       1.00      0.99      0.99       256\n",
      "           2       0.99      0.98      0.99       360\n",
      "           3       0.98      0.98      0.98       206\n",
      "\n",
      "    accuracy                           0.99      1179\n",
      "   macro avg       0.99      0.99      0.99      1179\n",
      "weighted avg       0.99      0.99      0.99      1179\n",
      "\n"
     ]
    }
   ],
   "source": [
    "try:\n",
    "    config = ConfigurationManager()\n",
    "    model_trainer_config = config.get_model_trainer_config()\n",
    "    model_trainer = ModelTrainer(config=model_trainer_config)\n",
    "    model_trainer.train()\n",
    "except Exception as e:\n",
    "    raise e"
   ]
  },
  {
   "cell_type": "code",
   "execution_count": null,
   "metadata": {},
   "outputs": [],
   "source": []
  }
 ],
 "metadata": {
  "kernelspec": {
   "display_name": "ml",
   "language": "python",
   "name": "python3"
  },
  "language_info": {
   "codemirror_mode": {
    "name": "ipython",
    "version": 3
   },
   "file_extension": ".py",
   "mimetype": "text/x-python",
   "name": "python",
   "nbconvert_exporter": "python",
   "pygments_lexer": "ipython3",
   "version": "3.10.12"
  }
 },
 "nbformat": 4,
 "nbformat_minor": 2
}
